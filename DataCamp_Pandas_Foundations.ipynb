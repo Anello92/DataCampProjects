{
  "nbformat": 4,
  "nbformat_minor": 0,
  "metadata": {
    "colab": {
      "name": "DataCamp-Pandas-Foundations.ipynb",
      "provenance": [],
      "collapsed_sections": [
        "XViSbJ6TRsdk",
        "iQH9k8JrSiiT",
        "U0qCF0peSbio",
        "zY3xPePbSqq8"
      ]
    },
    "kernelspec": {
      "name": "python3",
      "display_name": "Python 3"
    }
  },
  "cells": [
    {
      "cell_type": "markdown",
      "metadata": {
        "id": "XViSbJ6TRsdk",
        "colab_type": "text"
      },
      "source": [
        "# Matriz"
      ]
    },
    {
      "cell_type": "code",
      "metadata": {
        "id": "pSAiEm46RvXg",
        "colab_type": "code",
        "colab": {}
      },
      "source": [
        "matriz = [[1, 2, 3, 4], [5, 6, 7, 8], [9, 10, 11, 12], [13, 14, 15, 16]]"
      ],
      "execution_count": 0,
      "outputs": []
    },
    {
      "cell_type": "code",
      "metadata": {
        "id": "cJybpg_1SB_7",
        "colab_type": "code",
        "colab": {}
      },
      "source": [
        "df_matriz = pd.DataFrame(matriz)"
      ],
      "execution_count": 0,
      "outputs": []
    },
    {
      "cell_type": "code",
      "metadata": {
        "id": "Y8qwNixgSFIk",
        "colab_type": "code",
        "outputId": "ccb33e17-a1cd-46ce-db55-229d476db32e",
        "colab": {
          "base_uri": "https://localhost:8080/"
        }
      },
      "source": [
        "df_matriz"
      ],
      "execution_count": 0,
      "outputs": [
        {
          "output_type": "execute_result",
          "data": {
            "text/html": [
              "<div>\n",
              "<style scoped>\n",
              "    .dataframe tbody tr th:only-of-type {\n",
              "        vertical-align: middle;\n",
              "    }\n",
              "\n",
              "    .dataframe tbody tr th {\n",
              "        vertical-align: top;\n",
              "    }\n",
              "\n",
              "    .dataframe thead th {\n",
              "        text-align: right;\n",
              "    }\n",
              "</style>\n",
              "<table border=\"1\" class=\"dataframe\">\n",
              "  <thead>\n",
              "    <tr style=\"text-align: right;\">\n",
              "      <th></th>\n",
              "      <th>0</th>\n",
              "      <th>1</th>\n",
              "      <th>2</th>\n",
              "      <th>3</th>\n",
              "    </tr>\n",
              "  </thead>\n",
              "  <tbody>\n",
              "    <tr>\n",
              "      <th>0</th>\n",
              "      <td>1</td>\n",
              "      <td>2</td>\n",
              "      <td>3</td>\n",
              "      <td>4</td>\n",
              "    </tr>\n",
              "    <tr>\n",
              "      <th>1</th>\n",
              "      <td>5</td>\n",
              "      <td>6</td>\n",
              "      <td>7</td>\n",
              "      <td>8</td>\n",
              "    </tr>\n",
              "    <tr>\n",
              "      <th>2</th>\n",
              "      <td>9</td>\n",
              "      <td>10</td>\n",
              "      <td>11</td>\n",
              "      <td>12</td>\n",
              "    </tr>\n",
              "    <tr>\n",
              "      <th>3</th>\n",
              "      <td>13</td>\n",
              "      <td>14</td>\n",
              "      <td>15</td>\n",
              "      <td>16</td>\n",
              "    </tr>\n",
              "  </tbody>\n",
              "</table>\n",
              "</div>"
            ],
            "text/plain": [
              "    0   1   2   3\n",
              "0   1   2   3   4\n",
              "1   5   6   7   8\n",
              "2   9  10  11  12\n",
              "3  13  14  15  16"
            ]
          },
          "metadata": {
            "tags": []
          },
          "execution_count": 5
        }
      ]
    },
    {
      "cell_type": "markdown",
      "metadata": {
        "id": "gCAhhba5SxF9",
        "colab_type": "text"
      },
      "source": [
        "---"
      ]
    },
    {
      "cell_type": "markdown",
      "metadata": {
        "id": "LKv47HszP8q4",
        "colab_type": "text"
      },
      "source": [
        "# **Reviem of pandas DataFrames**\n",
        "\n",
        "https://campus.datacamp.com/courses/pandas-foundations/exploratory-data-analysis?ex=1"
      ]
    },
    {
      "cell_type": "markdown",
      "metadata": {
        "id": "yoNVCN3HZeft",
        "colab_type": "text"
      },
      "source": [
        ""
      ]
    },
    {
      "cell_type": "markdown",
      "metadata": {
        "id": "gHfqn0BvQCQZ",
        "colab_type": "text"
      },
      "source": [
        "Pandas is a library fo data analysis. \n",
        "The powertool of Pandas is the **DataFrame**, a tabular data structure with labeled rows & columns. Labeled rows & columns improves the clarity and intuition of many data analysis tasks.\n",
        "\n",
        "\n",
        "The columns of a DataFrame are themselves a Pandas structure called a **Series**. Extracting a single column from a DataFrame returns a Series.\n",
        "\n",
        "The Series extracted inherits its name attribute from the DataFrame column. To extract the **numerical entries** from the Series, we use the **values** attribute. **table.column.values**\n",
        "\n",
        "The data in the Series actually form a **NumPy Array** which is what the values attribute yields. \n",
        "\n",
        "**NumPy arrays, Pandas Series, and Pandas DataFrames**. Understanding how NumPy and pandas work together will prove to be very useful.\n"
      ]
    },
    {
      "cell_type": "markdown",
      "metadata": {
        "id": "JAcAFlriV0an",
        "colab_type": "text"
      },
      "source": [
        "#**Pandas Series**\n",
        "\n",
        "A Pandas Series is a 1D labelled NumPy array and a DataFrame is a 2D labelled array whose columns are Series. \n",
        "\n",
        "##**df.info()** \n",
        "\n",
        "info to determine information about the total count of non-null entries and infer the total count of null entries, which likely indicates missing data.\n",
        "\n"
      ]
    },
    {
      "cell_type": "code",
      "metadata": {
        "id": "u2qkQAz7RhpL",
        "colab_type": "code",
        "colab": {}
      },
      "source": [
        "import pandas as pd"
      ],
      "execution_count": 0,
      "outputs": []
    },
    {
      "cell_type": "markdown",
      "metadata": {
        "id": "0P0Gnx1rRHbP",
        "colab_type": "text"
      },
      "source": [
        "\n",
        "\n",
        "---\n",
        "\n",
        "\n",
        "\n",
        "\n",
        "\n",
        "\n"
      ]
    },
    {
      "cell_type": "code",
      "metadata": {
        "id": "TIHSWn-UYBDr",
        "colab_type": "code",
        "colab": {}
      },
      "source": [
        "# Import numpy\n",
        "import numpy as np\n",
        "\n",
        "# Create array of DataFrame values: np_vals\n",
        "np_vals = df.values\n",
        "\n",
        "# Create new array of base 10 logarithm values: np_vals_log10\n",
        "np_vals_log10 = np.log10(np_vals)\n",
        "\n",
        "# Create array of new DataFrame by passing df to np.log10(): df_log10\n",
        "df_log10 = np.log10(df)\n"
      ],
      "execution_count": 0,
      "outputs": []
    },
    {
      "cell_type": "markdown",
      "metadata": {
        "id": "WXwlFgEtaZtH",
        "colab_type": "text"
      },
      "source": [
        "#**Dictionary From DataFrames I**"
      ]
    },
    {
      "cell_type": "code",
      "metadata": {
        "id": "JvYWfzW1ZT6P",
        "colab_type": "code",
        "outputId": "7f71c673-c82f-465d-c439-1d6a76bb2abb",
        "colab": {
          "base_uri": "https://localhost:8080/",
          "height": 106
        }
      },
      "source": [
        "data = {'weekday': ['Sun', 'Sun', 'Mon', 'Mon'],\n",
        "        'city': ['Austin', 'Dallas', 'Austin', 'Dallas'],\n",
        "        'visitors': [139, 237, 326, 456],\n",
        "        'signups':[7, 12, 3, 5]}\n",
        "users = pd.DataFrame(data)\n",
        "print(users)"
      ],
      "execution_count": 0,
      "outputs": [
        {
          "output_type": "stream",
          "text": [
            "  weekday    city  visitors  signups\n",
            "0     Sun  Austin       139        7\n",
            "1     Sun  Dallas       237       12\n",
            "2     Mon  Austin       326        3\n",
            "3     Mon  Dallas       456        5\n"
          ],
          "name": "stdout"
        }
      ]
    },
    {
      "cell_type": "markdown",
      "metadata": {
        "id": "fMGFseiFajtv",
        "colab_type": "text"
      },
      "source": [
        "#**Dictionary From DataFrames II**\n",
        "\n",
        "It is useful to be able to build DataFrames from lists because **lists are a commom Python Data Structure**; it's natural that we might receibe data accumulated in lists. "
      ]
    },
    {
      "cell_type": "code",
      "metadata": {
        "id": "ifZrV22uao5e",
        "colab_type": "code",
        "colab": {}
      },
      "source": [
        "cities = ['Austin', 'Dallas', 'Austin', 'Dallas']\n",
        "signups = [7, 12, 3, 5]\n",
        "visitors = [139, 237, 326, 456]\n",
        "weekdays = ['Sun', 'Sun', 'Mon', 'Mon']\n",
        "\n",
        "list_labels = ['city', 'signups', 'visitors', 'weekdays']\n",
        "list_cols = [cities, signups, visitors, weekdays]\n"
      ],
      "execution_count": 0,
      "outputs": []
    },
    {
      "cell_type": "markdown",
      "metadata": {
        "id": "4cxUSaKnb42S",
        "colab_type": "text"
      },
      "source": [
        "#**Using Python's LIST and ZIP functions**\n",
        "\n",
        "It consturcs a list called zipped of tuples (column names and columns) to **feed to the dict command.**"
      ]
    },
    {
      "cell_type": "code",
      "metadata": {
        "id": "NpADqHGdcUVx",
        "colab_type": "code",
        "outputId": "cc724cb7-5c3a-40ea-8fb0-79bf09e3f9c6",
        "colab": {
          "base_uri": "https://localhost:8080/"
        }
      },
      "source": [
        "zipped = list(zip(list_labels, list_cols))\n",
        "print(zipped)"
      ],
      "execution_count": 0,
      "outputs": [
        {
          "output_type": "stream",
          "text": [
            "[('city', ['Austin', 'Dallas', 'Austin', 'Dallas']), ('signups', [7, 12, 3, 5]), ('visitors', [139, 237, 326, 456]), ('weekdays', ['Sun', 'Sun', 'Mon', 'Mon'])]\n"
          ],
          "name": "stdout"
        }
      ]
    },
    {
      "cell_type": "code",
      "metadata": {
        "id": "YlOo2v4pdWVW",
        "colab_type": "code",
        "colab": {}
      },
      "source": [
        "data = dict(zipped)"
      ],
      "execution_count": 0,
      "outputs": []
    },
    {
      "cell_type": "code",
      "metadata": {
        "id": "FAsHDSdqdaxN",
        "colab_type": "code",
        "outputId": "a350c263-8a2a-419d-f37c-82316edc4454",
        "colab": {
          "base_uri": "https://localhost:8080/"
        }
      },
      "source": [
        "users = pd.DataFrame(data)\n",
        "users"
      ],
      "execution_count": 0,
      "outputs": [
        {
          "output_type": "execute_result",
          "data": {
            "text/html": [
              "<div>\n",
              "<style scoped>\n",
              "    .dataframe tbody tr th:only-of-type {\n",
              "        vertical-align: middle;\n",
              "    }\n",
              "\n",
              "    .dataframe tbody tr th {\n",
              "        vertical-align: top;\n",
              "    }\n",
              "\n",
              "    .dataframe thead th {\n",
              "        text-align: right;\n",
              "    }\n",
              "</style>\n",
              "<table border=\"1\" class=\"dataframe\">\n",
              "  <thead>\n",
              "    <tr style=\"text-align: right;\">\n",
              "      <th></th>\n",
              "      <th>city</th>\n",
              "      <th>signups</th>\n",
              "      <th>visitors</th>\n",
              "      <th>weekdays</th>\n",
              "    </tr>\n",
              "  </thead>\n",
              "  <tbody>\n",
              "    <tr>\n",
              "      <th>0</th>\n",
              "      <td>Austin</td>\n",
              "      <td>7</td>\n",
              "      <td>139</td>\n",
              "      <td>Sun</td>\n",
              "    </tr>\n",
              "    <tr>\n",
              "      <th>1</th>\n",
              "      <td>Dallas</td>\n",
              "      <td>12</td>\n",
              "      <td>237</td>\n",
              "      <td>Sun</td>\n",
              "    </tr>\n",
              "    <tr>\n",
              "      <th>2</th>\n",
              "      <td>Austin</td>\n",
              "      <td>3</td>\n",
              "      <td>326</td>\n",
              "      <td>Mon</td>\n",
              "    </tr>\n",
              "    <tr>\n",
              "      <th>3</th>\n",
              "      <td>Dallas</td>\n",
              "      <td>5</td>\n",
              "      <td>456</td>\n",
              "      <td>Mon</td>\n",
              "    </tr>\n",
              "  </tbody>\n",
              "</table>\n",
              "</div>"
            ],
            "text/plain": [
              "     city  signups  visitors weekdays\n",
              "0  Austin        7       139      Sun\n",
              "1  Dallas       12       237      Sun\n",
              "2  Austin        3       326      Mon\n",
              "3  Dallas        5       456      Mon"
            ]
          },
          "metadata": {
            "tags": []
          },
          "execution_count": 27
        }
      ]
    },
    {
      "cell_type": "markdown",
      "metadata": {
        "id": "Dwdv2L3IdrNA",
        "colab_type": "text"
      },
      "source": [
        "#**Broadcasting**\n",
        "\n",
        "A convenient techinique in NumPy & Pandas.\n",
        "\n",
        "With users in memory, a new column, say fees, can be created on the fly. \n",
        "\n",
        "By using the **new column label fees** by assigning the scalar value zero, the value is broadcast to the **entire column**.\n",
        "\n",
        "**Broadcasting** saves time in generating long lists, arrays, or columns Broadcasting is not restricted to numbers. "
      ]
    },
    {
      "cell_type": "code",
      "metadata": {
        "id": "c__Fiuaad8hu",
        "colab_type": "code",
        "colab": {}
      },
      "source": [
        "users['fees'] = 0"
      ],
      "execution_count": 0,
      "outputs": []
    },
    {
      "cell_type": "code",
      "metadata": {
        "id": "nPpKOvdVd_kr",
        "colab_type": "code",
        "outputId": "6adce674-bf2d-4792-ee4c-75ca2aae7fca",
        "colab": {
          "base_uri": "https://localhost:8080/"
        }
      },
      "source": [
        "users"
      ],
      "execution_count": 0,
      "outputs": [
        {
          "output_type": "execute_result",
          "data": {
            "text/html": [
              "<div>\n",
              "<style scoped>\n",
              "    .dataframe tbody tr th:only-of-type {\n",
              "        vertical-align: middle;\n",
              "    }\n",
              "\n",
              "    .dataframe tbody tr th {\n",
              "        vertical-align: top;\n",
              "    }\n",
              "\n",
              "    .dataframe thead th {\n",
              "        text-align: right;\n",
              "    }\n",
              "</style>\n",
              "<table border=\"1\" class=\"dataframe\">\n",
              "  <thead>\n",
              "    <tr style=\"text-align: right;\">\n",
              "      <th></th>\n",
              "      <th>city</th>\n",
              "      <th>signups</th>\n",
              "      <th>visitors</th>\n",
              "      <th>weekdays</th>\n",
              "      <th>fees</th>\n",
              "    </tr>\n",
              "  </thead>\n",
              "  <tbody>\n",
              "    <tr>\n",
              "      <th>0</th>\n",
              "      <td>Austin</td>\n",
              "      <td>7</td>\n",
              "      <td>139</td>\n",
              "      <td>Sun</td>\n",
              "      <td>0</td>\n",
              "    </tr>\n",
              "    <tr>\n",
              "      <th>1</th>\n",
              "      <td>Dallas</td>\n",
              "      <td>12</td>\n",
              "      <td>237</td>\n",
              "      <td>Sun</td>\n",
              "      <td>0</td>\n",
              "    </tr>\n",
              "    <tr>\n",
              "      <th>2</th>\n",
              "      <td>Austin</td>\n",
              "      <td>3</td>\n",
              "      <td>326</td>\n",
              "      <td>Mon</td>\n",
              "      <td>0</td>\n",
              "    </tr>\n",
              "    <tr>\n",
              "      <th>3</th>\n",
              "      <td>Dallas</td>\n",
              "      <td>5</td>\n",
              "      <td>456</td>\n",
              "      <td>Mon</td>\n",
              "      <td>0</td>\n",
              "    </tr>\n",
              "  </tbody>\n",
              "</table>\n",
              "</div>"
            ],
            "text/plain": [
              "     city  signups  visitors weekdays  fees\n",
              "0  Austin        7       139      Sun     0\n",
              "1  Dallas       12       237      Sun     0\n",
              "2  Austin        3       326      Mon     0\n",
              "3  Dallas        5       456      Mon     0"
            ]
          },
          "metadata": {
            "tags": []
          },
          "execution_count": 29
        }
      ]
    },
    {
      "cell_type": "markdown",
      "metadata": {
        "id": "7IcM1NGYeP6E",
        "colab_type": "text"
      },
      "source": [
        "#**Broadcasting with a dictionary**\n",
        "\n",
        "Here, we create a dictionary data with column labels height and sex and a list  a single-charact string 'M' as values. \n",
        "\n",
        "When the dict data is used to create **DataFrame** results, the value 'M' is broadcast to the entire column. "
      ]
    },
    {
      "cell_type": "code",
      "metadata": {
        "id": "D8PeOjAmfQVM",
        "colab_type": "code",
        "outputId": "1295c3af-aed9-40a0-e72c-9a2d31619c0e",
        "colab": {
          "base_uri": "https://localhost:8080/"
        }
      },
      "source": [
        "heights = [59.0, 65.2, 62.9, 65.4, 63.7, 65.7, 64.1]\n",
        "data = {'height': heights, 'sex': 'M'}\n",
        "results = pd.DataFrame(data)\n",
        "results"
      ],
      "execution_count": 0,
      "outputs": [
        {
          "output_type": "execute_result",
          "data": {
            "text/html": [
              "<div>\n",
              "<style scoped>\n",
              "    .dataframe tbody tr th:only-of-type {\n",
              "        vertical-align: middle;\n",
              "    }\n",
              "\n",
              "    .dataframe tbody tr th {\n",
              "        vertical-align: top;\n",
              "    }\n",
              "\n",
              "    .dataframe thead th {\n",
              "        text-align: right;\n",
              "    }\n",
              "</style>\n",
              "<table border=\"1\" class=\"dataframe\">\n",
              "  <thead>\n",
              "    <tr style=\"text-align: right;\">\n",
              "      <th></th>\n",
              "      <th>height</th>\n",
              "      <th>sex</th>\n",
              "    </tr>\n",
              "  </thead>\n",
              "  <tbody>\n",
              "    <tr>\n",
              "      <th>0</th>\n",
              "      <td>59.0</td>\n",
              "      <td>M</td>\n",
              "    </tr>\n",
              "    <tr>\n",
              "      <th>1</th>\n",
              "      <td>65.2</td>\n",
              "      <td>M</td>\n",
              "    </tr>\n",
              "    <tr>\n",
              "      <th>2</th>\n",
              "      <td>62.9</td>\n",
              "      <td>M</td>\n",
              "    </tr>\n",
              "    <tr>\n",
              "      <th>3</th>\n",
              "      <td>65.4</td>\n",
              "      <td>M</td>\n",
              "    </tr>\n",
              "    <tr>\n",
              "      <th>4</th>\n",
              "      <td>63.7</td>\n",
              "      <td>M</td>\n",
              "    </tr>\n",
              "    <tr>\n",
              "      <th>5</th>\n",
              "      <td>65.7</td>\n",
              "      <td>M</td>\n",
              "    </tr>\n",
              "    <tr>\n",
              "      <th>6</th>\n",
              "      <td>64.1</td>\n",
              "      <td>M</td>\n",
              "    </tr>\n",
              "  </tbody>\n",
              "</table>\n",
              "</div>"
            ],
            "text/plain": [
              "   height sex\n",
              "0    59.0   M\n",
              "1    65.2   M\n",
              "2    62.9   M\n",
              "3    65.4   M\n",
              "4    63.7   M\n",
              "5    65.7   M\n",
              "6    64.1   M"
            ]
          },
          "metadata": {
            "tags": []
          },
          "execution_count": 30
        }
      ]
    },
    {
      "cell_type": "markdown",
      "metadata": {
        "id": "KvDR244nSPf3",
        "colab_type": "text"
      },
      "source": [
        "---"
      ]
    },
    {
      "cell_type": "markdown",
      "metadata": {
        "id": "s-A5O19zf6dT",
        "colab_type": "text"
      },
      "source": [
        "#**Index and columns**\n",
        "Remember, we can change the column and index **labels** using the **columns and index attributes** of Pandas DataFrame.\n",
        "\n",
        "We can assign lists of strings to the attributes columns and index as long as they are suitabel length (that is, the number of columns and rows respectively).\n",
        "\n"
      ]
    },
    {
      "cell_type": "code",
      "metadata": {
        "id": "9_2F-Hjjf5F7",
        "colab_type": "code",
        "outputId": "8192f9e0-0661-443e-d70e-b3f8a3d78795",
        "colab": {
          "base_uri": "https://localhost:8080/"
        }
      },
      "source": [
        "results.columns = ['height (in)', 'sex']\n",
        "results.index = ['A', 'B', 'C', 'D', 'E', 'F', 'G']\n",
        "print(results)"
      ],
      "execution_count": 0,
      "outputs": [
        {
          "output_type": "stream",
          "text": [
            "   height (in) sex\n",
            "A         59.0   M\n",
            "B         65.2   M\n",
            "C         62.9   M\n",
            "D         65.4   M\n",
            "E         63.7   M\n",
            "F         65.7   M\n",
            "G         64.1   M\n"
          ],
          "name": "stdout"
        }
      ]
    },
    {
      "cell_type": "markdown",
      "metadata": {
        "id": "ofvjCxydi-Sp",
        "colab_type": "text"
      },
      "source": [
        "#**Zip lists to build a DataFrame**"
      ]
    },
    {
      "cell_type": "code",
      "metadata": {
        "id": "3FghuvZzi7Mq",
        "colab_type": "code",
        "colab": {}
      },
      "source": [
        "# Zip the 2 lists together into one list of (key,value) tuples: zipped\n",
        "zipped = list(zip(list_keys, list_values))\n",
        "\n",
        "# Inspect the list using print()\n",
        "print(zipped)\n",
        "\n",
        "# Build a dictionary with the zipped list: data\n",
        "data = dict(zipped)\n",
        "\n",
        "# Build and inspect a DataFrame from the dictionary: df\n",
        "df = pd.DataFrame(data)\n",
        "print(df)"
      ],
      "execution_count": 0,
      "outputs": []
    },
    {
      "cell_type": "code",
      "metadata": {
        "id": "sI6cP1WkjP__",
        "colab_type": "code",
        "colab": {}
      },
      "source": [
        "# <script.py> output:\n",
        "    [('Country', ['United States', 'Soviet Union', 'United Kingdom']), ('Total', [1118, 473, 273])]\n",
        "              Country  Total\n",
        "    0   United States   1118\n",
        "    1    Soviet Union    473\n",
        "    2  United Kingdom    273\n"
      ],
      "execution_count": 0,
      "outputs": []
    },
    {
      "cell_type": "markdown",
      "metadata": {
        "id": "r-zQPanRjbUj",
        "colab_type": "text"
      },
      "source": [
        "#**Labeling Data** \n",
        "\n",
        "You can use the DataFrame attribute df.columns to view and assign new string labels to columns in a pandas DataFrame.\n",
        "\n",
        "In this exercise, we have imported pandas as pd and defined a DataFrame df containing top Billboard hits from the 1980s (from Wikipedia). Each row has the year, artist, song name and the number of weeks at the top. However, this DataFrame has the column labels a, b, c, d. Your job is to use the df.columns attribute to re-assign descriptive column labels."
      ]
    },
    {
      "cell_type": "code",
      "metadata": {
        "id": "VF8OpckDjn7c",
        "colab_type": "code",
        "colab": {}
      },
      "source": [
        "# Build a list of labels: list_labels\n",
        "list_labels = list(['year', 'artist', 'song', 'chart weeks'])\n",
        "\n",
        "# Assign the list of labels to the columns attribute: df.columns\n",
        "df.columns = list_labels\n"
      ],
      "execution_count": 0,
      "outputs": []
    },
    {
      "cell_type": "markdown",
      "metadata": {
        "id": "R88uz76vkUk-",
        "colab_type": "text"
      },
      "source": [
        "#**Building DataFrames with BroadCasting**\n",
        "You can implicitly use 'broadcasting', a feature of NumPy, when creating pandas DataFrames. In this exercise, you're going to create a DataFrame of cities in Pennsylvania that contains the city name in one column and the state name in the second. We have imported the names of 15 cities as the list cities.\n",
        "\n",
        "Your job is to construct a DataFrame from the list of cities and the string 'PA'."
      ]
    },
    {
      "cell_type": "code",
      "metadata": {
        "id": "peLiSKvPkfxA",
        "colab_type": "code",
        "colab": {}
      },
      "source": [
        "# Make a string with the value 'PA': state\n",
        "state = 'PA'\n",
        "\n",
        "# Construct a dictionary: data\n",
        "data = {'state':state, 'city':cities}\n",
        "\n",
        "# Construct a DataFrame from dictionary data: df\n",
        "df = pd.DataFrame(data)\n",
        "\n",
        "# Print the DataFrame\n",
        "print(df)"
      ],
      "execution_count": 0,
      "outputs": []
    },
    {
      "cell_type": "code",
      "metadata": {
        "id": "S_qD9CtwkiHH",
        "colab_type": "code",
        "colab": {}
      },
      "source": [
        "script.py> output:\n",
        "       state             city\n",
        "    0     PA          Manheim\n",
        "    1     PA     Preston park\n",
        "    2     PA      Biglerville\n",
        "    3     PA          Indiana\n",
        "    4     PA     Curwensville\n",
        "    5     PA            Crown\n",
        "    6     PA     Harveys lake\n",
        "    7     PA  Mineral springs\n",
        "    8     PA        Cassville\n",
        "    9     PA       Hannastown\n",
        "    10    PA        Saltsburg\n",
        "    11    PA      Tunkhannock\n",
        "    12    PA       Pittsburgh\n",
        "    13    PA        Lemasters\n",
        "    14    PA       Great bend"
      ],
      "execution_count": 0,
      "outputs": []
    },
    {
      "cell_type": "markdown",
      "metadata": {
        "id": "MwIkA2_EkyFJ",
        "colab_type": "text"
      },
      "source": [
        "#**Reading a flat file** - reading DataFrames from files"
      ]
    },
    {
      "cell_type": "code",
      "metadata": {
        "id": "sOZWN_dSlcT0",
        "colab_type": "code",
        "colab": {}
      },
      "source": [
        "# Read in the file: df1\n",
        "df1 = pd.read_csv(data_file)\n",
        "\n",
        "# Create a list of the new column labels: new_labels\n",
        "new_labels = ['year', 'population']\n",
        "\n",
        "# Read in the file, specifying the header and names parameters: df2\n",
        "df2 = pd.read_csv(data_file, header=0, names=new_labels)\n",
        "\n",
        "# Print both the DataFrames\n",
        "print(df1)\n",
        "print(df2)"
      ],
      "execution_count": 0,
      "outputs": []
    },
    {
      "cell_type": "code",
      "metadata": {
        "id": "jq8g1k53nBqU",
        "colab_type": "code",
        "colab": {}
      },
      "source": [
        "<script.py> output:\n",
        "       Year  Total Population\n",
        "    0  1960      3.034971e+09\n",
        "    1  1970      3.684823e+09\n",
        "    2  1980      4.436590e+09\n",
        "    3  1990      5.282716e+09\n",
        "    4  2000      6.115974e+09\n",
        "    5  2010      6.924283e+09\n",
        "       year    population\n",
        "    0  1960  3.034971e+09\n",
        "    1  1970  3.684823e+09\n",
        "    2  1980  4.436590e+09\n",
        "    3  1990  5.282716e+09\n",
        "    4  2000  6.115974e+09\n",
        "    5  2010  6.924283e+09"
      ],
      "execution_count": 0,
      "outputs": []
    },
    {
      "cell_type": "markdown",
      "metadata": {
        "id": "FKjqdLNdnoEr",
        "colab_type": "text"
      },
      "source": [
        "#**Delimiters, headers, and extensions**"
      ]
    },
    {
      "cell_type": "code",
      "metadata": {
        "id": "LYZuTPGmnsi7",
        "colab_type": "code",
        "colab": {}
      },
      "source": [
        "# Read the raw file as-is: df1\n",
        "df1 = pd.read_csv(file_messy)\n",
        "\n",
        "# Print the output of df1.head()\n",
        "print(df1.head())\n",
        "\n",
        "# Read in the file with the correct parameters: df2\n",
        "df2 = pd.read_csv(file_messy, delimiter=' ', header=3, comment='#')\n",
        "\n",
        "# Print the output of df2.head()\n",
        "print(df2.head())\n",
        "\n",
        "# Save the cleaned up DataFrame to a CSV file without the index\n",
        "df2.to_csv(file_clean, index=False)\n",
        "\n",
        "# Save the cleaned up DataFrame to an excel file without the index\n",
        "df2.to_excel('file_clean.xlsx', index=False)"
      ],
      "execution_count": 0,
      "outputs": []
    },
    {
      "cell_type": "markdown",
      "metadata": {
        "id": "oKDMNkw_pQsD",
        "colab_type": "text"
      },
      "source": [
        "#**Plotting series using pandas**"
      ]
    },
    {
      "cell_type": "code",
      "metadata": {
        "id": "7MWATEHnof6V",
        "colab_type": "code",
        "colab": {}
      },
      "source": [
        "# Create a plot with color='red'\n",
        "df.plot(c ='red')\n",
        "\n",
        "# Add a title\n",
        "plt.title('Temperature in Austin')\n",
        "\n",
        "# Specify the x-axis label\n",
        "plt.xlabel('Hours since midnight August 1, 2010')\n",
        "\n",
        "# Specify the y-axis label\n",
        "plt.ylabel('Temperature (degrees F)')\n",
        "\n",
        "# Display the plot\n",
        "plt.show()\n"
      ],
      "execution_count": 0,
      "outputs": []
    },
    {
      "cell_type": "code",
      "metadata": {
        "id": "5mfrPpLIrAq_",
        "colab_type": "code",
        "colab": {}
      },
      "source": [
        "# Plot all columns (default)\n",
        "df.plot()\n",
        "plt.show()\n",
        "\n",
        "# Plot all columns as subplots\n",
        "df.plot(subplots = True)\n",
        "plt.show()\n",
        "\n",
        "# Plot just the Dew Point data\n",
        "column_list1 = ['Dew Point (deg F)']\n",
        "df[column_list1].plot()\n",
        "plt.show()\n",
        "\n",
        "# Plot the Dew Point and Temperature data, but not the Pressure data\n",
        "column_list2 = ['Temperature (deg F)','Dew Point (deg F)']\n",
        "df[column_list2].plot()\n",
        "plt.show()"
      ],
      "execution_count": 0,
      "outputs": []
    },
    {
      "cell_type": "markdown",
      "metadata": {
        "id": "KJQE6wcIWdQd",
        "colab_type": "text"
      },
      "source": [
        "#**Visual exploratory data analysis** - EDA"
      ]
    },
    {
      "cell_type": "code",
      "metadata": {
        "id": "VyNx5ZejWmqg",
        "colab_type": "code",
        "colab": {}
      },
      "source": [
        "import numpy as np\n",
        "import pandas as pd\n",
        "import seaborn as sns\n",
        "import matplotlib.pyplot as plt"
      ],
      "execution_count": 0,
      "outputs": []
    },
    {
      "cell_type": "code",
      "metadata": {
        "id": "1UybxToeWmnK",
        "colab_type": "code",
        "colab": {}
      },
      "source": [
        "datasets.load_*?"
      ],
      "execution_count": 0,
      "outputs": []
    },
    {
      "cell_type": "markdown",
      "metadata": {
        "id": "SuTl4b8FY4rk",
        "colab_type": "text"
      },
      "source": [
        "- datasets.load_boston\n",
        "- datasets.load_breast_cancer\n",
        "- datasets.load_diabetes\n",
        "- datasets.load_digits\n",
        "- datasets.load_files\n",
        "- **datasets.load_iris**\n",
        "- datasets.load_linnerud\n",
        "- datasets.load_sample_image\n",
        "- datasets.load_sample_images\n",
        "- datasets.load_svmlight_file\n",
        "- datasets.load_svmlight_files\n",
        "- datasets.load_wine\n"
      ]
    },
    {
      "cell_type": "code",
      "metadata": {
        "id": "TUf9m2waZj0H",
        "colab_type": "code",
        "colab": {}
      },
      "source": [
        "iris.plot(x = \"sepal_length\", y = \"sepal_width\")\n",
        "plt.show()\n",
        "#the plot result is not useful because, by default, plot creates a line plot.\n"
      ],
      "execution_count": 0,
      "outputs": []
    },
    {
      "cell_type": "markdown",
      "metadata": {
        "id": "mNsqVK8ehc7h",
        "colab_type": "text"
      },
      "source": [
        "#**Word of warning**\n",
        "- ## iris.plot(kind='hist')\n",
        "- ## iris.plt.hist()\n",
        "- ## iris.hist()"
      ]
    },
    {
      "cell_type": "markdown",
      "metadata": {
        "id": "XA4WOb2-d6_L",
        "colab_type": "text"
      },
      "source": [
        "##**Scatter plot**"
      ]
    },
    {
      "cell_type": "code",
      "metadata": {
        "id": "SzAp2HXccMla",
        "colab_type": "code",
        "colab": {}
      },
      "source": [
        "iris.plot(x = \"sepal_length\", t = \"sepal_width\", kind = \"scatter\")\n",
        "\n",
        "plt.xlabel('sepal length (cm)')\n",
        "plt.ylabel('sepal width (cm)' )\n",
        "plt.show()"
      ],
      "execution_count": 0,
      "outputs": []
    },
    {
      "cell_type": "markdown",
      "metadata": {
        "id": "Qv92N3sWeEdg",
        "colab_type": "text"
      },
      "source": [
        "##**Box plot**\n",
        "\n",
        "#### Individual variable distributions are likely more informative htna plotting 2 variables against each other. The resulting boxplot shows the range and median values. "
      ]
    },
    {
      "cell_type": "code",
      "metadata": {
        "id": "bO9EFRCDeNXy",
        "colab_type": "code",
        "colab": {}
      },
      "source": [
        "iris.plot(y = 'sepal_length', kind = 'box')\n",
        "plt.ylabel('sepal_length (cm)')\n",
        "plt.show()"
      ],
      "execution_count": 0,
      "outputs": []
    },
    {
      "cell_type": "markdown",
      "metadata": {
        "id": "YYwkKqawe_d8",
        "colab_type": "text"
      },
      "source": [
        "##**Histogram**\n",
        "\n",
        "#### Histograms show frequencies of measurements counted within certain bins or intervals. We can redraw the histogram to get a better sense of the data."
      ]
    },
    {
      "cell_type": "code",
      "metadata": {
        "id": "YyvoPzXEfHYE",
        "colab_type": "code",
        "colab": {}
      },
      "source": [
        "irisp.plot(y = 'sepal_length', kind = 'hist')\n",
        "plt.xlabel('sepal_width (cm)')\n",
        "plt.show()"
      ],
      "execution_count": 0,
      "outputs": []
    },
    {
      "cell_type": "markdown",
      "metadata": {
        "id": "jYeNu--sfos8",
        "colab_type": "text"
      },
      "source": [
        "##**Histogram options**\n",
        "\n",
        "- bins (integer): number of intervals or bins\n",
        "- range (tuple): extrema of bins (minimum, maximum)\n",
        "- normed (boolean): whether to normalize to one\n",
        "- cumulative (boolean): compute Cumulative Distribution Function \n",
        "- matplotlib customizations "
      ]
    },
    {
      "cell_type": "code",
      "metadata": {
        "id": "U8NtuotEgZED",
        "colab_type": "code",
        "colab": {}
      },
      "source": [
        "iris.plot(y = 'sepal_length',\n",
        "          kind = 'hist', \n",
        "          bins = 30, \n",
        "          range =(4,8),\n",
        "          normed = True)\n",
        "plt.xlabel('sepal_lenght (cm)')\n",
        "plt.show()"
      ],
      "execution_count": 0,
      "outputs": []
    },
    {
      "cell_type": "markdown",
      "metadata": {
        "id": "d4aeYiY2h2un",
        "colab_type": "text"
      },
      "source": [
        "#**Pandas line plots**"
      ]
    },
    {
      "cell_type": "code",
      "metadata": {
        "id": "TLMK6F4lh6nk",
        "colab_type": "code",
        "colab": {}
      },
      "source": [
        "# Create a list of y-axis column names: y_columns\n",
        "y_columns = list(['AAPL', 'IBM'])\n",
        "\n",
        "# Generate a line plot\n",
        "df.plot(x='Month', y=y_columns)\n",
        "\n",
        "# Add the title\n",
        "plt.title('Monthly stock prices')\n",
        "\n",
        "# Add the y-axis label\n",
        "plt.ylabel('Price ($US)')\n",
        "\n",
        "# Display the plot\n",
        "plt.show()"
      ],
      "execution_count": 0,
      "outputs": []
    },
    {
      "cell_type": "markdown",
      "metadata": {
        "id": "UmMV-UiDinoq",
        "colab_type": "text"
      },
      "source": [
        "#**Pandas scatter plots**"
      ]
    },
    {
      "cell_type": "code",
      "metadata": {
        "id": "vwubInmtiiX3",
        "colab_type": "code",
        "colab": {}
      },
      "source": [
        "# Generate a scatter plot\n",
        "df.plot(kind = 'scatter', x='hp', y='mpg', s=sizes)\n",
        "\n",
        "# Add the title\n",
        "plt.title('Fuel efficiency vs Horse-power')\n",
        "\n",
        "# Add the x-axis label\n",
        "plt.xlabel('Horse-power')\n",
        "\n",
        "# Add the y-axis label\n",
        "plt.ylabel('Fuel efficiency (mpg)')\n",
        "\n",
        "# Display the plot\n",
        "plt.show()"
      ],
      "execution_count": 0,
      "outputs": []
    },
    {
      "cell_type": "markdown",
      "metadata": {
        "id": "fAIfLUfSjH8D",
        "colab_type": "text"
      },
      "source": [
        "#**Pandas box plots**"
      ]
    },
    {
      "cell_type": "code",
      "metadata": {
        "id": "PciyajPljLqK",
        "colab_type": "code",
        "colab": {}
      },
      "source": [
        "# Make a list of the column names to be plotted: cols\n",
        "cols = list(['weight', 'mpg'])\n",
        "\n",
        "# Generate the box plots\n",
        "df[cols].plot(kind = 'box', subplots = True)\n",
        "\n",
        "# Display the plot\n",
        "plt.show()"
      ],
      "execution_count": 0,
      "outputs": []
    },
    {
      "cell_type": "markdown",
      "metadata": {
        "id": "-F4p1PYpvZe5",
        "colab_type": "text"
      },
      "source": [
        "#**Separate and plot**"
      ]
    },
    {
      "cell_type": "code",
      "metadata": {
        "id": "E9Otib3fvdoq",
        "colab_type": "code",
        "colab": {}
      },
      "source": [
        "# Display the box plots on 3 separate rows and 1 column\n",
        "fig, axes = plt.subplots(nrows=3, ncols=1)\n",
        "\n",
        "# Generate a box plot of the fare prices for the First passenger class\n",
        "titanic.loc[titanic['pclass'] == 1].plot(ax=axes[0], y='fare', kind='box')\n",
        "\n",
        "# Generate a box plot of the fare prices for the Second passenger class\n",
        "titanic.loc[titanic['pclass'] == 2].plot(ax=axes[1], y='fare', kind='box')\n",
        "\n",
        "# Generate a box plot of the fare prices for the Third passenger class\n",
        "titanic.loc[titanic['pclass'] == 3].plot(ax=axes[2], y='fare', kind='box')\n",
        "\n",
        "# Display the plot\n",
        "plt.show()"
      ],
      "execution_count": 0,
      "outputs": []
    },
    {
      "cell_type": "markdown",
      "metadata": {
        "id": "WzJDUAD0kHxd",
        "colab_type": "text"
      },
      "source": [
        "#**Pandas hist, pdf and cdf**"
      ]
    },
    {
      "cell_type": "code",
      "metadata": {
        "id": "f2eYSr-Lk9Be",
        "colab_type": "code",
        "colab": {}
      },
      "source": [
        "# This formats the plots such that they appear on separate rows\n",
        "fig, axes = plt.subplots(nrows=2, ncols=1)\n",
        "\n",
        "# Plot the PDF\n",
        "df.fraction.plot(ax=axes[0], kind='hist', bins = 30,  normed = True, range=(0,.3))\n",
        "plt.show()\n",
        "\n",
        "# Plot the CDF\n",
        "df.fraction.plot(ax =axes[1], kind = 'hist', bins = 30, cumulative = True, normed = True, range=(0,.3))\n",
        "plt.show()"
      ],
      "execution_count": 0,
      "outputs": []
    },
    {
      "cell_type": "markdown",
      "metadata": {
        "colab_type": "text",
        "id": "cpbXottClNCY"
      },
      "source": [
        "#**Statistical exploratory data analysis**\n",
        "\n",
        "#### A statistic is a single number that summarizes a numerical dataset. \n",
        "\n",
        "\n"
      ]
    },
    {
      "cell_type": "code",
      "metadata": {
        "id": "VWeP0mnJljF0",
        "colab_type": "code",
        "colab": {}
      },
      "source": [
        "iris.describe()\n",
        "# we can use describe to list summary statistic of numerical columns of the iris DataFrame."
      ],
      "execution_count": 0,
      "outputs": []
    },
    {
      "cell_type": "markdown",
      "metadata": {
        "id": "DsekuE82mABT",
        "colab_type": "text"
      },
      "source": [
        "#**.count() .mean() .std() .median()**\n",
        "\n",
        "\n"
      ]
    },
    {
      "cell_type": "code",
      "metadata": {
        "id": "3gb9re_yrQvW",
        "colab_type": "code",
        "colab": {}
      },
      "source": [
        "# Print the mean of the January and March data\n",
        "print(january.mean(), march.mean())\n",
        "\n",
        "# Print the standard deviation of the January and March data\n",
        "print(january.std(), march.std())\n"
      ],
      "execution_count": 0,
      "outputs": []
    },
    {
      "cell_type": "code",
      "metadata": {
        "id": "wZxmNv_DmEfB",
        "colab_type": "code",
        "colab": {}
      },
      "source": [
        "# Print the minimum value of the Engineering column\n",
        "print(df['Engineering'].min())\n",
        "\n",
        "# Print the maximum value of the Engineering column\n",
        "print(df['Engineering'].max())\n",
        "\n",
        "# Construct the mean percentage per year: mean\n",
        "mean = df.mean(axis='columns')\n",
        "\n",
        "# Plot the average percentage per year\n",
        "mean.plot()\n",
        "\n",
        "# Display the plot\n",
        "plt.show()"
      ],
      "execution_count": 0,
      "outputs": []
    },
    {
      "cell_type": "code",
      "metadata": {
        "id": "HzKh1o-Nort0",
        "colab_type": "code",
        "colab": {}
      },
      "source": [
        "# Print summary statistics of the fare column with .describe()\n",
        "print(df.fare.describe())\n",
        "\n",
        "# Generate a box plot of the fare column\n",
        "df.fare.plot(kind = \"box\")\n",
        "\n",
        "# Show the plot\n",
        "plt.show()"
      ],
      "execution_count": 0,
      "outputs": []
    },
    {
      "cell_type": "markdown",
      "metadata": {
        "id": "cIIgiVjZsU_j",
        "colab_type": "text"
      },
      "source": [
        "---"
      ]
    },
    {
      "cell_type": "markdown",
      "metadata": {
        "id": "boY1pC73rcsO",
        "colab_type": "text"
      },
      "source": [
        "#**Separating populations**"
      ]
    },
    {
      "cell_type": "markdown",
      "metadata": {
        "id": "tQe80hoYrrpI",
        "colab_type": "text"
      },
      "source": [
        "##**describe() returns count(), unique, top and freq.**"
      ]
    },
    {
      "cell_type": "code",
      "metadata": {
        "id": "SGWwvT2Jrl8i",
        "colab_type": "code",
        "colab": {}
      },
      "source": [
        "iris['species'].describe()"
      ],
      "execution_count": 0,
      "outputs": []
    },
    {
      "cell_type": "markdown",
      "metadata": {
        "id": "KRXaKcyhscAX",
        "colab_type": "text"
      },
      "source": [
        "##**Filtering by species**"
      ]
    },
    {
      "cell_type": "code",
      "metadata": {
        "id": "15i-ySOrsgBw",
        "colab_type": "code",
        "colab": {}
      },
      "source": [
        "indices = iris['species'] == 'setosa'\n",
        "\n",
        "setosa = iris.loc[indices,:] # extracting a new DataFrame\n",
        "\n",
        "indices = iris['species'] == 'versicolor'\n",
        "\n",
        "versicolor = iris.loc[indices,:] # extracting a new DataFrame\n",
        "\n",
        "indices = iris['species'] == 'virginica'\n",
        "\n",
        "virginica = iris.loc[indices,:] # extracting a new DataFrame"
      ],
      "execution_count": 0,
      "outputs": []
    },
    {
      "cell_type": "markdown",
      "metadata": {
        "id": "27WgxE7Cu9yB",
        "colab_type": "text"
      },
      "source": [
        "\n",
        "\n",
        "---\n",
        "\n"
      ]
    },
    {
      "cell_type": "markdown",
      "metadata": {
        "id": "Helru4fHu30-",
        "colab_type": "text"
      },
      "source": [
        "#**Filtering .loc**"
      ]
    },
    {
      "cell_type": "code",
      "metadata": {
        "id": "fdbRjbJfvGQu",
        "colab_type": "code",
        "colab": {}
      },
      "source": [
        "# Compute the global mean and global standard deviation: global_mean, global_std\n",
        "global_mean = df.mean()\n",
        "global_std = df.std()\n",
        "\n",
        "# Filter the US population from the origin column: us\n",
        "us = df.loc[df['origin'] == 'US']\n",
        "\n",
        "# Compute the US mean and US standard deviation: us_mean, us_std\n",
        "us_mean = us.mean()\n",
        "us_std = us.std()\n",
        "\n",
        "# Print the differences\n",
        "print(us_mean - global_mean)\n",
        "print(us_std - global_std)"
      ],
      "execution_count": 0,
      "outputs": []
    },
    {
      "cell_type": "markdown",
      "metadata": {
        "id": "iQH9k8JrSiiT",
        "colab_type": "text"
      },
      "source": [
        "# type()"
      ]
    },
    {
      "cell_type": "code",
      "metadata": {
        "id": "8ubRkXx4SK3S",
        "colab_type": "code",
        "outputId": "0f1cfadf-fab8-4e74-ec1d-74ac42fe4718",
        "colab": {
          "base_uri": "https://localhost:8080/",
          "height": 34
        }
      },
      "source": [
        "type(df_matriz)"
      ],
      "execution_count": 0,
      "outputs": [
        {
          "output_type": "execute_result",
          "data": {
            "text/plain": [
              "pandas.core.frame.DataFrame"
            ]
          },
          "metadata": {
            "tags": []
          },
          "execution_count": 6
        }
      ]
    },
    {
      "cell_type": "markdown",
      "metadata": {
        "id": "rxcgUE4ZSutc",
        "colab_type": "text"
      },
      "source": [
        "---"
      ]
    },
    {
      "cell_type": "markdown",
      "metadata": {
        "id": "U0qCF0peSbio",
        "colab_type": "text"
      },
      "source": [
        "# .shape"
      ]
    },
    {
      "cell_type": "code",
      "metadata": {
        "id": "GxToInzqSWaa",
        "colab_type": "code",
        "outputId": "094a2130-4d99-4937-f78b-fa2761cec466",
        "colab": {
          "base_uri": "https://localhost:8080/",
          "height": 34
        }
      },
      "source": [
        "df_matriz.shape"
      ],
      "execution_count": 0,
      "outputs": [
        {
          "output_type": "execute_result",
          "data": {
            "text/plain": [
              "(4, 4)"
            ]
          },
          "metadata": {
            "tags": []
          },
          "execution_count": 7
        }
      ]
    },
    {
      "cell_type": "markdown",
      "metadata": {
        "id": "c9Z9WNqzSqsE",
        "colab_type": "text"
      },
      "source": [
        "---\n"
      ]
    },
    {
      "cell_type": "markdown",
      "metadata": {
        "id": "zY3xPePbSqq8",
        "colab_type": "text"
      },
      "source": [
        "#.columns"
      ]
    },
    {
      "cell_type": "code",
      "metadata": {
        "id": "p_NODWtpS8EK",
        "colab_type": "code",
        "outputId": "df5ef181-f7db-4f34-b7bd-59dbdb9cde45",
        "colab": {
          "base_uri": "https://localhost:8080/",
          "height": 34
        }
      },
      "source": [
        "df_matriz.columns"
      ],
      "execution_count": 0,
      "outputs": [
        {
          "output_type": "execute_result",
          "data": {
            "text/plain": [
              "RangeIndex(start=0, stop=4, step=1)"
            ]
          },
          "metadata": {
            "tags": []
          },
          "execution_count": 8
        }
      ]
    },
    {
      "cell_type": "markdown",
      "metadata": {
        "id": "NpuKQwZnTOXY",
        "colab_type": "text"
      },
      "source": [
        "\n",
        "\n",
        "---\n",
        "\n",
        "\n",
        "\n",
        "---\n",
        "\n"
      ]
    },
    {
      "cell_type": "markdown",
      "metadata": {
        "id": "jLJ1-Wveg-P9",
        "colab_type": "text"
      },
      "source": [
        "#**Indexing time series** - datetimes\n",
        "\n",
        "## Pandas stores date and time information in datetime objects"
      ]
    },
    {
      "cell_type": "markdown",
      "metadata": {
        "id": "PPFrosWUh6rw",
        "colab_type": "text"
      },
      "source": [
        "## parse_dates = True\n",
        "### we can tell read_csv to parse all compatible columns as datetime objects\n",
        "### we're going to use Date column as the index useful for data **data exploration** and selections."
      ]
    },
    {
      "cell_type": "code",
      "metadata": {
        "id": "35Z-wlP4h8OW",
        "colab_type": "code",
        "colab": {}
      },
      "source": [
        "import pandas as pd\n",
        "sales = pd.read_csv('sales-feb-2015.csv', parse_dates - True, index_col = 'Date')"
      ],
      "execution_count": 0,
      "outputs": []
    },
    {
      "cell_type": "code",
      "metadata": {
        "id": "kkAwzeJLkmKM",
        "colab_type": "code",
        "colab": {}
      },
      "source": [
        "sales.loc['2015-2-5', 'Company'] #selecting the datetime string and the Company column name"
      ],
      "execution_count": 0,
      "outputs": []
    },
    {
      "cell_type": "code",
      "metadata": {
        "id": "vza6p5jgkcvp",
        "colab_type": "code",
        "colab": {}
      },
      "source": [
        "sales.loc['2015-2-5'] #all of the columns are returned"
      ],
      "execution_count": 0,
      "outputs": []
    },
    {
      "cell_type": "markdown",
      "metadata": {
        "id": "hRxf6CBClaTR",
        "colab_type": "text"
      },
      "source": [
        "#**Slicing using dates/times**"
      ]
    },
    {
      "cell_type": "code",
      "metadata": {
        "id": "XyiCKHtxldO1",
        "colab_type": "code",
        "colab": {}
      },
      "source": [
        "sales.loc['2015-2-16':'2015-02-20']"
      ],
      "execution_count": 0,
      "outputs": []
    },
    {
      "cell_type": "code",
      "metadata": {
        "id": "CB_qqr9Hra9-",
        "colab_type": "code",
        "colab": {}
      },
      "source": [
        "# Extract the hour from 9pm to 10pm on '2010-10-11': ts1\n",
        "ts1 = ts0.loc['2010-10-11 21:00:00': '2010-10-11 22:00:00']\n",
        "\n",
        "# Extract '2010-07-04' from ts0: ts2\n",
        "ts2 = ts0.loc['2010-07-04']\n",
        "\n",
        "# Extract data from '2010-12-15' to '2010-12-31': ts3\n",
        "ts3 = ts0.loc['2010-12-15' : '2010-12-31']\n"
      ],
      "execution_count": 0,
      "outputs": []
    },
    {
      "cell_type": "code",
      "metadata": {
        "id": "eBBaSdRfra8M",
        "colab_type": "code",
        "colab": {}
      },
      "source": [
        ""
      ],
      "execution_count": 0,
      "outputs": []
    },
    {
      "cell_type": "markdown",
      "metadata": {
        "id": "zSJtJZBYl4Zr",
        "colab_type": "text"
      },
      "source": [
        "#**Convert strings to datetime**\n",
        "## The Pandas to_datetime function can convert strings in ISO 8601 to datetime objects."
      ]
    },
    {
      "cell_type": "code",
      "metadata": {
        "id": "FxBAUQgJl94E",
        "colab_type": "code",
        "outputId": "167f705e-5469-412c-a490-9d3103312b07",
        "colab": {
          "base_uri": "https://localhost:8080/",
          "height": 34
        }
      },
      "source": [
        "datas_string = ['2020-01-31','2019-01-31','2018-01-31','2017-01-31']\n",
        "datas_string"
      ],
      "execution_count": 0,
      "outputs": [
        {
          "output_type": "execute_result",
          "data": {
            "text/plain": [
              "['2020-01-31', '2019-01-31', '2018-01-31', '2017-01-31']"
            ]
          },
          "metadata": {
            "tags": []
          },
          "execution_count": 3
        }
      ]
    },
    {
      "cell_type": "code",
      "metadata": {
        "id": "OVhs6rS9nLDP",
        "colab_type": "code",
        "outputId": "ab1a02af-09ab-4fef-d591-2c10e5ca4543",
        "colab": {
          "base_uri": "https://localhost:8080/",
          "height": 34
        }
      },
      "source": [
        "type(datas_string)"
      ],
      "execution_count": 0,
      "outputs": [
        {
          "output_type": "execute_result",
          "data": {
            "text/plain": [
              "list"
            ]
          },
          "metadata": {
            "tags": []
          },
          "execution_count": 5
        }
      ]
    },
    {
      "cell_type": "code",
      "metadata": {
        "id": "Tspmm7VRm8NX",
        "colab_type": "code",
        "outputId": "220e8048-366b-41c8-8417-838c8de2a161",
        "colab": {
          "base_uri": "https://localhost:8080/",
          "height": 34
        }
      },
      "source": [
        "datas_convertidas = pd.to_datetime(datas_string)\n",
        "datas_convertidas"
      ],
      "execution_count": 0,
      "outputs": [
        {
          "output_type": "execute_result",
          "data": {
            "text/plain": [
              "DatetimeIndex(['2020-01-31', '2019-01-31', '2018-01-31', '2017-01-31'], dtype='datetime64[ns]', freq=None)"
            ]
          },
          "metadata": {
            "tags": []
          },
          "execution_count": 8
        }
      ]
    },
    {
      "cell_type": "code",
      "metadata": {
        "id": "mxKTbo0CnQqc",
        "colab_type": "code",
        "outputId": "35f3f8ec-507e-4894-a8d7-81f863bdaff3",
        "colab": {
          "base_uri": "https://localhost:8080/",
          "height": 34
        }
      },
      "source": [
        "type(datas_convertidas)"
      ],
      "execution_count": 0,
      "outputs": [
        {
          "output_type": "execute_result",
          "data": {
            "text/plain": [
              "pandas.core.indexes.datetimes.DatetimeIndex"
            ]
          },
          "metadata": {
            "tags": []
          },
          "execution_count": 7
        }
      ]
    },
    {
      "cell_type": "markdown",
      "metadata": {
        "id": "gkHX4yOAn0QI",
        "colab_type": "text"
      },
      "source": [
        "#**Reindexing Datetime in DataFrame**"
      ]
    },
    {
      "cell_type": "code",
      "metadata": {
        "id": "EH8R78kXnvtW",
        "colab_type": "code",
        "colab": {}
      },
      "source": [
        "table.reindex(datas_convertidas)\n",
        "\n",
        "# Reindex without fill method: ts3\n",
        "ts3 = ts2.reindex(ts1.index)\n",
        "\n",
        "# Reindex with fill method, using forward fill: ts4\n",
        "ts4 = ts2.reindex(ts1.index, method='ffill')\n",
        "\n",
        "# Combine ts1 + ts2: sum12\n",
        "sum12 = ts1 + ts2\n",
        "\n",
        "# Combine ts1 + ts3: sum13\n",
        "sum13 = ts1 + ts3\n",
        "\n",
        "# Combine ts1 + ts4: sum14\n",
        "sum14 = ts1 + ts4"
      ],
      "execution_count": 0,
      "outputs": []
    },
    {
      "cell_type": "markdown",
      "metadata": {
        "id": "2zD6sVBupeFs",
        "colab_type": "text"
      },
      "source": [
        "#**time_format =**format =''%Y-%m-%d %H:%M''\n"
      ]
    },
    {
      "cell_type": "code",
      "metadata": {
        "id": "leuqiIhwpgxE",
        "colab_type": "code",
        "colab": {}
      },
      "source": [
        "# Prepare a format string: time_format\n",
        "time_format='%Y-%m-%d %H:%M'\n",
        "\n",
        "# Convert date_list into a datetime object: my_datetimes\n",
        "my_datetimes = pd.to_datetime(date_list, format=time_format)  \n",
        "\n",
        "# Construct a pandas Series using temperature_list and my_datetimes: time_series\n",
        "time_series = pd.Series(temperature_list, index=my_datetimes)"
      ],
      "execution_count": 0,
      "outputs": []
    },
    {
      "cell_type": "markdown",
      "metadata": {
        "id": "GIetjXHdtAn_",
        "colab_type": "text"
      },
      "source": [
        "#**Resampling**\n",
        "## Using resampling, we can apply statistical methods over different time intervals"
      ]
    },
    {
      "cell_type": "code",
      "metadata": {
        "id": "ATj-KVC1tMMY",
        "colab_type": "code",
        "colab": {}
      },
      "source": [
        "daily_mean = sales.resample('D').mean()\n",
        "# Resamle needs a string to specify frequency \"D\" stands for daily"
      ],
      "execution_count": 0,
      "outputs": []
    },
    {
      "cell_type": "markdown",
      "metadata": {
        "id": "3IBLeRP0wL3x",
        "colab_type": "text"
      },
      "source": [
        "![alt text](https://drive.google.com/uc?id=1Pm_xsRf1l6Y04dI6anYO63vnmrLaphEn)"
      ]
    },
    {
      "cell_type": "code",
      "metadata": {
        "id": "ZXSjGJuGwPD8",
        "colab_type": "code",
        "colab": {}
      },
      "source": [
        "sales.resample('D').sum()"
      ],
      "execution_count": 0,
      "outputs": []
    },
    {
      "cell_type": "markdown",
      "metadata": {
        "id": "LEqmBM69wplX",
        "colab_type": "text"
      },
      "source": [
        "![alt text](https://drive.google.com/uc?id=1ez4HV-jp28m4398bQ_SiMp9tJwhAoKA-)"
      ]
    },
    {
      "cell_type": "code",
      "metadata": {
        "id": "JIG1ficaxBuB",
        "colab_type": "code",
        "colab": {}
      },
      "source": [
        "# Downsample to 6 hour data and aggregate by mean: df1\n",
        "df1 = df['Temperature'].resample('6h').mean()\n",
        "\n",
        "# Downsample to daily data and count the number of data points: df2\n",
        "df2 = df['Temperature'].resample('D').count()"
      ],
      "execution_count": 0,
      "outputs": []
    },
    {
      "cell_type": "code",
      "metadata": {
        "id": "2BxUhgtsxtAu",
        "colab_type": "code",
        "colab": {}
      },
      "source": [
        "# Extract temperature data for August: august\n",
        "august = df['Temperature']['2010-August']\n",
        "\n",
        "# Downsample to obtain only the daily highest temperatures in August: august_highs\n",
        "august_highs = august.resample('D').max()\n",
        "\n",
        "# Extract temperature data for February: february\n",
        "february = df['Temperature']['2010-Feb']\n",
        "\n",
        "# Downsample to obtain the daily lowest temperatures in February: february_lows\n",
        "february_lows = february.resample('D').min()"
      ],
      "execution_count": 0,
      "outputs": []
    },
    {
      "cell_type": "code",
      "metadata": {
        "id": "gN3wsLXSx0ot",
        "colab_type": "code",
        "colab": {}
      },
      "source": [
        "# Extract data from 2010-Aug-01 to 2010-Aug-15: unsmoothed\n",
        "unsmoothed = df['Temperature']['2010-Aug-01':'2010-Aug-15']\n",
        "\n",
        "# Apply a rolling mean with a 24 hour window: smoothed\n",
        "smoothed = unsmoothed.rolling(window=24).mean()\n",
        "\n",
        "# Create a new DataFrame with columns smoothed and unsmoothed: august\n",
        "august = pd.DataFrame({'smoothed':smoothed, 'unsmoothed':unsmoothed})\n",
        "\n",
        "# Plot both smoothed and unsmoothed data using august.plot().\n",
        "august.plot()\n",
        "plt.show()"
      ],
      "execution_count": 0,
      "outputs": []
    },
    {
      "cell_type": "code",
      "metadata": {
        "id": "KUWP_hEzx6bB",
        "colab_type": "code",
        "colab": {}
      },
      "source": [
        "# Extract the August 2010 data: august\n",
        "august = df['Temperature']['2010-Aug']\n",
        "\n",
        "# Resample to daily data, aggregating by max: daily_highs\n",
        "daily_highs = august.resample('D').max()\n",
        "\n",
        "# Use a rolling 7-day window with method chaining to smooth the daily high temperatures in August\n",
        "daily_highs_smoothed = august.resample('D').max().rolling(window=7).mean()\n",
        "print(daily_highs_smoothed)"
      ],
      "execution_count": 0,
      "outputs": []
    },
    {
      "cell_type": "code",
      "metadata": {
        "id": "V9GCrtIa00ii",
        "colab_type": "code",
        "colab": {}
      },
      "source": [
        "# Strip extra whitespace from the column names: df.columns\n",
        "df.columns = df.columns.str.strip()\n",
        "\n",
        "# Extract data for which the destination airport is Dallas: dallas\n",
        "dallas = df['Destination Airport'].str.contains('DAL')\n",
        "\n",
        "# Compute the total number of Dallas departures each day: daily_departures\n",
        "daily_departures = dallas.resample('D').sum()\n",
        "\n",
        "# Generate the summary statistics for daily Dallas departures: stats\n",
        "stats = daily_departures.describe()"
      ],
      "execution_count": 0,
      "outputs": []
    },
    {
      "cell_type": "markdown",
      "metadata": {
        "id": "O6m53jf80-MH",
        "colab_type": "text"
      },
      "source": [
        "## Missing values and interpolation"
      ]
    },
    {
      "cell_type": "code",
      "metadata": {
        "id": "iq-mXQAm1Eoz",
        "colab_type": "code",
        "colab": {}
      },
      "source": [
        "# Reset the index of ts2 to ts1, and then use linear interpolation to fill in the NaNs: ts2_interp\n",
        "ts2_interp = ts2.reindex(ts1.index).interpolate(how='linear')\n",
        "\n",
        "# Compute the absolute difference of ts1 and ts2_interp: differences \n",
        "differences = np.abs(ts1 - ts2_interp)\n",
        "\n",
        "# Generate and print summary statistics of the differences\n",
        "print(differences.describe())"
      ],
      "execution_count": 0,
      "outputs": []
    },
    {
      "cell_type": "markdown",
      "metadata": {
        "id": "XknYjgss1JqU",
        "colab_type": "text"
      },
      "source": [
        "##Time zones and conversion"
      ]
    },
    {
      "cell_type": "code",
      "metadata": {
        "id": "2wrsCPFh1KeY",
        "colab_type": "code",
        "colab": {}
      },
      "source": [
        "# Build a Boolean mask to filter for the 'LAX' departure flights: mask\n",
        "mask = df['Destination Airport'] == 'LAX'\n",
        "\n",
        "# Use the mask to subset the data: la\n",
        "la = df[mask]\n",
        "\n",
        "# Combine two columns of data to create a datetime series: times_tz_none \n",
        "times_tz_none = pd.to_datetime( la['Date (MM/DD/YYYY)'] + ' ' + la['Wheels-off Time'] )\n",
        "\n",
        "# Localize the time to US/Central: times_tz_central\n",
        "times_tz_central = times_tz_none.dt.tz_localize('US/Central')\n",
        "\n",
        "# Convert the datetimes from US/Central to US/Pacific\n",
        "times_tz_pacific = times_tz_central.dt.tz_convert('US/Pacific')"
      ],
      "execution_count": 0,
      "outputs": []
    },
    {
      "cell_type": "markdown",
      "metadata": {
        "id": "aAqVDgNy1aSY",
        "colab_type": "text"
      },
      "source": [
        "## Plotting time series, datetime indexing"
      ]
    },
    {
      "cell_type": "code",
      "metadata": {
        "id": "oUV-Op-M1bGp",
        "colab_type": "code",
        "colab": {}
      },
      "source": [
        "# Plot the raw data before setting the datetime index\n",
        "df.plot()\n",
        "plt.show()\n",
        "\n",
        "# Convert the 'Date' column into a collection of datetime objects: df.Date\n",
        "df.Date = pd.to_datetime(df.Date)\n",
        "\n",
        "# Set the index to be the converted 'Date' column\n",
        "df.set_index('Date', inplace = True)\n",
        "\n",
        "# Re-plot the DataFrame to see that the axis is now datetime aware!\n",
        "df.plot()\n",
        "plt.show()"
      ],
      "execution_count": 0,
      "outputs": []
    },
    {
      "cell_type": "markdown",
      "metadata": {
        "id": "6WaSmq5u2EAF",
        "colab_type": "text"
      },
      "source": [
        "##Plotting date ranges, partial indexing\n"
      ]
    },
    {
      "cell_type": "code",
      "metadata": {
        "id": "J4KQ7kUv1_SV",
        "colab_type": "code",
        "colab": {}
      },
      "source": [
        "# Plot the summer data\n",
        "df.Temperature['2010-Jun':'2010-Aug'].plot()\n",
        "plt.show()\n",
        "plt.clf()\n",
        "\n",
        "# Plot the one week data\n",
        "df.Temperature['2010-06-10':'2010-06-17'].plot()\n",
        "plt.show()\n",
        "plt.clf()\n"
      ],
      "execution_count": 0,
      "outputs": []
    },
    {
      "cell_type": "markdown",
      "metadata": {
        "id": "uDvd5calriI8",
        "colab_type": "text"
      },
      "source": [
        "---\n",
        "\n"
      ]
    },
    {
      "cell_type": "markdown",
      "metadata": {
        "id": "mG83uifN1IKm",
        "colab_type": "text"
      },
      "source": [
        "##Reading in a data file"
      ]
    },
    {
      "cell_type": "code",
      "metadata": {
        "id": "8HASbGMO1KcI",
        "colab_type": "code",
        "colab": {}
      },
      "source": [
        "# Import pandas\n",
        "import pandas as pd\n",
        "\n",
        "# Read in the data file: df\n",
        "df = pd.read_csv(data_file)\n",
        "\n",
        "# Print the output of df.head()\n",
        "print(df.head())\n",
        "\n",
        "# Read in the data file with header=None: df_headers\n",
        "df_headers = pd.read_csv(data_file, header = None)\n",
        "\n",
        "# Print the output of df_headers.head()\n",
        "print(df_headers.head())"
      ],
      "execution_count": 0,
      "outputs": []
    },
    {
      "cell_type": "markdown",
      "metadata": {
        "id": "FSxad5wI2Kxs",
        "colab_type": "text"
      },
      "source": [
        "## Re-assiging column names"
      ]
    },
    {
      "cell_type": "code",
      "metadata": {
        "id": "BMk2hIfA2KDz",
        "colab_type": "code",
        "colab": {}
      },
      "source": [
        "# Split on the comma to create a list: column_labels_list\n",
        "column_labels_list = column_labels.split(',')\n",
        "\n",
        "# Assign the new column labels to the DataFrame: df.columns\n",
        "df.columns = column_labels_list\n",
        "\n",
        "# Remove the appropriate columns: df_dropped\n",
        "df_dropped = df.drop(list_to_drop, axis = 'columns')\n",
        "\n",
        "# Print the output of df_dropped.head()\n",
        "print(df_dropped.head())\n",
        "\n",
        "column_labels.split(',')"
      ],
      "execution_count": 0,
      "outputs": []
    },
    {
      "cell_type": "markdown",
      "metadata": {
        "id": "KQRq6r1d4RkX",
        "colab_type": "text"
      },
      "source": [
        "##Cleaning and tidying datetime data"
      ]
    },
    {
      "cell_type": "code",
      "metadata": {
        "id": "F9N0HFJP2RPJ",
        "colab_type": "code",
        "colab": {}
      },
      "source": [
        "# Convert the date column to string: df_dropped['date']\n",
        "df_dropped['date'] = df_dropped['date'].astype(str)\n",
        "\n",
        "# Pad leading zeros to the Time column: df_dropped['Time']\n",
        "df_dropped['Time'] = df_dropped['Time'].apply(lambda x:'{:0>4}'.format(x))\n",
        "\n",
        "# Concatenate the new date and Time columns: date_string\n",
        "date_string = df_dropped['date'] + df_dropped['Time']\n",
        "\n",
        "# Convert the date_string Series to datetime: date_times\n",
        "date_times = pd.to_datetime(date_string, format='%Y%m%d%H%M')\n",
        "\n",
        "# Set the index to be the new date_times container: df_clean\n",
        "df_clean = df_dropped.set_index(date_times)\n",
        "\n",
        "# Print the output of df_clean.head()\n",
        "print(df_clean.head())"
      ],
      "execution_count": 0,
      "outputs": []
    },
    {
      "cell_type": "code",
      "metadata": {
        "id": "aKtMuDec5YdF",
        "colab_type": "code",
        "colab": {}
      },
      "source": [
        "# Print the dry_bulb_faren temperature between 8 AM and 9 AM on June 20, 2011\n",
        "print(df_clean.loc['2011-6-20 8:00:00':'2011-6-20 9:00:00', 'dry_bulb_faren'])\n",
        "\n",
        "# Convert the dry_bulb_faren column to numeric values: df_clean['dry_bulb_faren']\n",
        "df_clean['dry_bulb_faren'] = pd.to_numeric(df_clean['dry_bulb_faren'], errors='coerce')\n",
        "\n",
        "# Print the transformed dry_bulb_faren temperature between 8 AM and 9 AM on June 20, 2011\n",
        "print(df_clean.loc['2011-6-20 8:00:00':'2011-6-20 9:00:00', 'dry_bulb_faren'])\n",
        "\n",
        "# Convert the wind_speed and dew_point_faren columns to numeric values\n",
        "df_clean['wind_speed'] = pd.to_numeric(df_clean['wind_speed'], errors='coerce')\n",
        "df_clean['dew_point_faren'] = pd.to_numeric(df_clean['dew_point_faren'], errors='coerce')"
      ],
      "execution_count": 0,
      "outputs": []
    },
    {
      "cell_type": "markdown",
      "metadata": {
        "id": "24ZdLBjh5cQZ",
        "colab_type": "text"
      },
      "source": [
        "##Statistical exploratory data analysis"
      ]
    },
    {
      "cell_type": "markdown",
      "metadata": {
        "id": "ByOSiW306N6I",
        "colab_type": "text"
      },
      "source": [
        "![alt text](https://drive.google.com/uc?id=1eIgcvHCtqiDmJS5E8DXS6tU6rLIhyLXe)"
      ]
    },
    {
      "cell_type": "code",
      "metadata": {
        "id": "am170JRL5gJN",
        "colab_type": "code",
        "colab": {}
      },
      "source": [
        "# Print the median of the dry_bulb_faren column\n",
        "print(df_clean.dry_bulb_faren.median())\n",
        "\n",
        "# Print the median of the dry_bulb_faren column for the time range '2011-Apr':'2011-Jun'\n",
        "print(df_clean.loc['2011-Apr':'2011-Jun', 'dry_bulb_faren'].median())\n",
        "\n",
        "# Print the median of the dry_bulb_faren column for the month of January\n",
        "print(df_clean.loc['2011-Jan', 'dry_bulb_faren'].median())"
      ],
      "execution_count": 0,
      "outputs": []
    },
    {
      "cell_type": "code",
      "metadata": {
        "id": "g1ZVRBP28RRQ",
        "colab_type": "code",
        "colab": {}
      },
      "source": [
        "# Downsample df_clean by day and aggregate by mean: daily_mean_2011\n",
        "daily_mean_2011 = df_clean.resample('D').mean()\n",
        "\n",
        "# Extract the dry_bulb_faren column from daily_mean_2011 using .values: daily_temp_2011\n",
        "daily_temp_2011 = daily_mean_2011['dry_bulb_faren'].values\n",
        "\n",
        "# Downsample df_climate by day and aggregate by mean: daily_climate\n",
        "daily_climate = df_climate.resample('D').mean()\n",
        "\n",
        "# Extract the Temperature column from daily_climate using .reset_index(): daily_temp_climate\n",
        "daily_temp_climate = daily_climate.reset_index()['Temperature']"
      ],
      "execution_count": 0,
      "outputs": []
    },
    {
      "cell_type": "markdown",
      "metadata": {
        "id": "J7KCuWdt88BW",
        "colab_type": "text"
      },
      "source": [
        "##Sunny Days"
      ]
    },
    {
      "cell_type": "code",
      "metadata": {
        "id": "vAAToXjc8-xK",
        "colab_type": "code",
        "colab": {}
      },
      "source": [
        "# Using df_clean, when is sky_condition 'CLR'?\n",
        "is_sky_clear = df_clean['sky_condition']=='CLR'\n",
        "\n",
        "# Filter df_clean using is_sky_clear\n",
        "sunny = df_clean.loc[is_sky_clear]\n",
        "\n",
        "# Resample sunny by day then calculate the max\n",
        "sunny_daily_max = sunny.resample('D').max()\n",
        "\n",
        "# See the result\n",
        "sunny_daily_max.head()\n",
        "\n",
        "--- \n",
        "\n",
        "# Using df_clean, when does sky_condition contain 'OVC'?\n",
        "is_sky_overcast = df_clean['sky_condition'].str.contains('OVC')\n",
        "\n",
        "# Filter df_clean using is_sky_overcast\n",
        "overcast = df_clean.loc[is_sky_overcast]\n",
        "\n",
        "# Resample overcast by day then calculate the max\n",
        "overcast_daily_max = overcast.resample('D').max()\n",
        "\n",
        "# See the result\n",
        "overcast_daily_max.head()"
      ],
      "execution_count": 0,
      "outputs": []
    },
    {
      "cell_type": "code",
      "metadata": {
        "id": "XEqO-DVg8-Bl",
        "colab_type": "code",
        "colab": {}
      },
      "source": [
        "# From previous steps\n",
        "is_sky_clear = df_clean['sky_condition']=='CLR'\n",
        "sunny = df_clean.loc[is_sky_clear]\n",
        "sunny_daily_max = sunny.resample('D').max()\n",
        "is_sky_overcast = df_clean['sky_condition'].str.contains('OVC')\n",
        "overcast = df_clean.loc[is_sky_overcast]\n",
        "overcast_daily_max = overcast.resample('D').max()\n",
        "\n",
        "# Calculate the mean of sunny_daily_max\n",
        "sunny_daily_max_mean = sunny_daily_max.mean()\n",
        "\n",
        "# Calculate the mean of overcast_daily_max\n",
        "overcast_daily_max_mean = overcast_daily_max.mean()\n",
        "\n",
        "# Print the difference (sunny minus overcast)\n",
        "print(sunny_daily_max_mean - overcast_daily_max_mean)"
      ],
      "execution_count": 0,
      "outputs": []
    },
    {
      "cell_type": "code",
      "metadata": {
        "id": "58ZIHk_yAzWJ",
        "colab_type": "code",
        "colab": {}
      },
      "source": [
        "# Import matplotlib.pyplot as plt\n",
        "import matplotlib.pyplot as plt\n",
        "\n",
        "# Select the visibility and dry_bulb_faren columns and resample them: weekly_mean\n",
        "weekly_mean = df_clean[['visibility','dry_bulb_faren']].resample('W').mean()\n",
        "\n",
        "# Print the output of weekly_mean.corr()\n",
        "print(weekly_mean.corr())\n",
        "\n",
        "# Plot weekly_mean with subplots=True\n",
        "weekly_mean.plot(subplots=True)\n",
        "plt.show()"
      ],
      "execution_count": 0,
      "outputs": []
    },
    {
      "cell_type": "code",
      "metadata": {
        "id": "c4rynOFgBLAD",
        "colab_type": "code",
        "colab": {}
      },
      "source": [
        "# Using df_clean, when is sky_condition 'CLR'?\n",
        "is_sky_clear = df_clean.sky_condition == 'CLR'\n",
        "\n",
        "# Resample is_sky_clear by day\n",
        "resampled = is_sky_clear.resample(\"D\")\n",
        "\n",
        "# See the result\n",
        "resampled"
      ],
      "execution_count": 0,
      "outputs": []
    },
    {
      "cell_type": "code",
      "metadata": {
        "id": "bWZ8reJfBTot",
        "colab_type": "code",
        "colab": {}
      },
      "source": [
        "# From previous step\n",
        "is_sky_clear = df_clean['sky_condition'] == 'CLR'\n",
        "resampled = is_sky_clear.resample('D')\n",
        "\n",
        "# Calculate the number of sunny hours per day\n",
        "sunny_hours = resampled.sum()\n",
        "\n",
        "# Calculate the number of measured hours per day\n",
        "total_hours = resampled.count()\n",
        "\n",
        "# Calculate the fraction of hours per day that were sunny\n",
        "sunny_fraction = sunny_hours / total_hours\n",
        "\n",
        "# From previous steps\n",
        "is_sky_clear = df_clean['sky_condition'] == 'CLR'\n",
        "resampled = is_sky_clear.resample('D')\n",
        "sunny_hours = resampled.sum()\n",
        "total_hours = resampled.count()\n",
        "sunny_fraction = sunny_hours / total_hours\n",
        "\n",
        "# Make a box plot of sunny_fraction\n",
        "sunny_fraction.plot(kind='box')\n",
        "plt.show()"
      ],
      "execution_count": 0,
      "outputs": []
    },
    {
      "cell_type": "code",
      "metadata": {
        "id": "Tq8anQqnBT7l",
        "colab_type": "code",
        "colab": {}
      },
      "source": [
        "# Resample dew_point_faren and dry_bulb_faren by Month, aggregating the maximum values: monthly_max\n",
        "monthly_max = df_clean[['dew_point_faren', 'dry_bulb_faren']].resample(\"M\").max()\n",
        "\n",
        "# Generate a histogram with bins=8, alpha=0.5, subplots=True\n",
        "monthly_max.plot(kind = \"hist\", bins = 8, alpha = 0.5, subplots = True)\n",
        "\n",
        "# Show the plot\n",
        "plt.show()"
      ],
      "execution_count": 0,
      "outputs": []
    },
    {
      "cell_type": "code",
      "metadata": {
        "id": "tSM28GeFF2c3",
        "colab_type": "code",
        "colab": {}
      },
      "source": [
        "# Extract the maximum temperature in August 2010 from df_climate: august_max\n",
        "august_max = df_climate.loc['2010-Aug','Temperature'].max()\n",
        "print(august_max)\n",
        "\n",
        "# Resample August 2011 temps in df_clean by day & aggregate the max value: august_2011\n",
        "august_2011 = df_clean.loc['2011-Aug','dry_bulb_faren'].resample('D').max()\n",
        "\n",
        "# Filter for days in august_2011 where the value exceeds august_max: august_2011_high\n",
        "august_2011_high = august_2011.loc[august_2011 > august_max]\n",
        "\n",
        "# Construct a CDF of august_2011_high\n",
        "august_2011_high.plot(kind='hist', normed=True, cumulative=True, bins=25)\n",
        "\n",
        "# Display the plot\n",
        "plt.show()"
      ],
      "execution_count": 0,
      "outputs": []
    }
  ]
}